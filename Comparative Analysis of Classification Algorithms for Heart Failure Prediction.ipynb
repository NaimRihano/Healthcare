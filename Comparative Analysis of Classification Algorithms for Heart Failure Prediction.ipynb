{
 "cells": [
  {
   "cell_type": "markdown",
   "id": "5f50181b",
   "metadata": {},
   "source": [
    "# Import packages"
   ]
  },
  {
   "cell_type": "code",
   "execution_count": 1,
   "id": "13c22277",
   "metadata": {},
   "outputs": [],
   "source": [
    "# for data preprocessing\n",
    "import numpy as np\n",
    "import pandas as pd\n",
    "from sklearn.model_selection import train_test_split\n",
    "from sklearn.preprocessing import StandardScaler\n",
    "from sklearn.preprocessing import LabelEncoder\n",
    "\n",
    "# Machine learning classifiers\n",
    "from sklearn.linear_model import LogisticRegression\n",
    "from sklearn.tree import DecisionTreeClassifier \n",
    "from sklearn.ensemble import RandomForestClassifier \n",
    "from sklearn.neighbors import KNeighborsClassifier \n",
    "from sklearn.svm import SVC\n",
    "from xgboost.sklearn import XGBClassifier\n",
    "from sklearn.ensemble import ExtraTreesClassifier\n",
    "\n",
    "# for evaluation\n",
    "from time import process_time\n",
    "from sklearn.metrics import confusion_matrix, classification_report\n",
    "\n",
    "# for Visualization\n",
    "import seaborn as sns\n",
    "from matplotlib import pyplot as plt\n",
    "\n",
    "# To handle warnings\n",
    "import warnings\n",
    "warnings.filterwarnings('ignore')"
   ]
  },
  {
   "cell_type": "markdown",
   "id": "9386f509",
   "metadata": {},
   "source": [
    "# Load Dataset"
   ]
  },
  {
   "cell_type": "code",
   "execution_count": 2,
   "id": "33bb7e11",
   "metadata": {},
   "outputs": [
    {
     "data": {
      "text/html": [
       "<div>\n",
       "<style scoped>\n",
       "    .dataframe tbody tr th:only-of-type {\n",
       "        vertical-align: middle;\n",
       "    }\n",
       "\n",
       "    .dataframe tbody tr th {\n",
       "        vertical-align: top;\n",
       "    }\n",
       "\n",
       "    .dataframe thead th {\n",
       "        text-align: right;\n",
       "    }\n",
       "</style>\n",
       "<table border=\"1\" class=\"dataframe\">\n",
       "  <thead>\n",
       "    <tr style=\"text-align: right;\">\n",
       "      <th></th>\n",
       "      <th>Age</th>\n",
       "      <th>Sex</th>\n",
       "      <th>ChestPainType</th>\n",
       "      <th>RestingBP</th>\n",
       "      <th>Cholesterol</th>\n",
       "      <th>FastingBS</th>\n",
       "      <th>RestingECG</th>\n",
       "      <th>MaxHR</th>\n",
       "      <th>ExerciseAngina</th>\n",
       "      <th>Oldpeak</th>\n",
       "      <th>ST_Slope</th>\n",
       "      <th>HeartDisease</th>\n",
       "    </tr>\n",
       "  </thead>\n",
       "  <tbody>\n",
       "    <tr>\n",
       "      <th>0</th>\n",
       "      <td>40</td>\n",
       "      <td>M</td>\n",
       "      <td>ATA</td>\n",
       "      <td>140</td>\n",
       "      <td>289</td>\n",
       "      <td>0</td>\n",
       "      <td>Normal</td>\n",
       "      <td>172</td>\n",
       "      <td>N</td>\n",
       "      <td>0.0</td>\n",
       "      <td>Up</td>\n",
       "      <td>0</td>\n",
       "    </tr>\n",
       "    <tr>\n",
       "      <th>1</th>\n",
       "      <td>49</td>\n",
       "      <td>F</td>\n",
       "      <td>NAP</td>\n",
       "      <td>160</td>\n",
       "      <td>180</td>\n",
       "      <td>0</td>\n",
       "      <td>Normal</td>\n",
       "      <td>156</td>\n",
       "      <td>N</td>\n",
       "      <td>1.0</td>\n",
       "      <td>Flat</td>\n",
       "      <td>1</td>\n",
       "    </tr>\n",
       "    <tr>\n",
       "      <th>2</th>\n",
       "      <td>37</td>\n",
       "      <td>M</td>\n",
       "      <td>ATA</td>\n",
       "      <td>130</td>\n",
       "      <td>283</td>\n",
       "      <td>0</td>\n",
       "      <td>ST</td>\n",
       "      <td>98</td>\n",
       "      <td>N</td>\n",
       "      <td>0.0</td>\n",
       "      <td>Up</td>\n",
       "      <td>0</td>\n",
       "    </tr>\n",
       "    <tr>\n",
       "      <th>3</th>\n",
       "      <td>48</td>\n",
       "      <td>F</td>\n",
       "      <td>ASY</td>\n",
       "      <td>138</td>\n",
       "      <td>214</td>\n",
       "      <td>0</td>\n",
       "      <td>Normal</td>\n",
       "      <td>108</td>\n",
       "      <td>Y</td>\n",
       "      <td>1.5</td>\n",
       "      <td>Flat</td>\n",
       "      <td>1</td>\n",
       "    </tr>\n",
       "    <tr>\n",
       "      <th>4</th>\n",
       "      <td>54</td>\n",
       "      <td>M</td>\n",
       "      <td>NAP</td>\n",
       "      <td>150</td>\n",
       "      <td>195</td>\n",
       "      <td>0</td>\n",
       "      <td>Normal</td>\n",
       "      <td>122</td>\n",
       "      <td>N</td>\n",
       "      <td>0.0</td>\n",
       "      <td>Up</td>\n",
       "      <td>0</td>\n",
       "    </tr>\n",
       "    <tr>\n",
       "      <th>...</th>\n",
       "      <td>...</td>\n",
       "      <td>...</td>\n",
       "      <td>...</td>\n",
       "      <td>...</td>\n",
       "      <td>...</td>\n",
       "      <td>...</td>\n",
       "      <td>...</td>\n",
       "      <td>...</td>\n",
       "      <td>...</td>\n",
       "      <td>...</td>\n",
       "      <td>...</td>\n",
       "      <td>...</td>\n",
       "    </tr>\n",
       "    <tr>\n",
       "      <th>913</th>\n",
       "      <td>45</td>\n",
       "      <td>M</td>\n",
       "      <td>TA</td>\n",
       "      <td>110</td>\n",
       "      <td>264</td>\n",
       "      <td>0</td>\n",
       "      <td>Normal</td>\n",
       "      <td>132</td>\n",
       "      <td>N</td>\n",
       "      <td>1.2</td>\n",
       "      <td>Flat</td>\n",
       "      <td>1</td>\n",
       "    </tr>\n",
       "    <tr>\n",
       "      <th>914</th>\n",
       "      <td>68</td>\n",
       "      <td>M</td>\n",
       "      <td>ASY</td>\n",
       "      <td>144</td>\n",
       "      <td>193</td>\n",
       "      <td>1</td>\n",
       "      <td>Normal</td>\n",
       "      <td>141</td>\n",
       "      <td>N</td>\n",
       "      <td>3.4</td>\n",
       "      <td>Flat</td>\n",
       "      <td>1</td>\n",
       "    </tr>\n",
       "    <tr>\n",
       "      <th>915</th>\n",
       "      <td>57</td>\n",
       "      <td>M</td>\n",
       "      <td>ASY</td>\n",
       "      <td>130</td>\n",
       "      <td>131</td>\n",
       "      <td>0</td>\n",
       "      <td>Normal</td>\n",
       "      <td>115</td>\n",
       "      <td>Y</td>\n",
       "      <td>1.2</td>\n",
       "      <td>Flat</td>\n",
       "      <td>1</td>\n",
       "    </tr>\n",
       "    <tr>\n",
       "      <th>916</th>\n",
       "      <td>57</td>\n",
       "      <td>F</td>\n",
       "      <td>ATA</td>\n",
       "      <td>130</td>\n",
       "      <td>236</td>\n",
       "      <td>0</td>\n",
       "      <td>LVH</td>\n",
       "      <td>174</td>\n",
       "      <td>N</td>\n",
       "      <td>0.0</td>\n",
       "      <td>Flat</td>\n",
       "      <td>1</td>\n",
       "    </tr>\n",
       "    <tr>\n",
       "      <th>917</th>\n",
       "      <td>38</td>\n",
       "      <td>M</td>\n",
       "      <td>NAP</td>\n",
       "      <td>138</td>\n",
       "      <td>175</td>\n",
       "      <td>0</td>\n",
       "      <td>Normal</td>\n",
       "      <td>173</td>\n",
       "      <td>N</td>\n",
       "      <td>0.0</td>\n",
       "      <td>Up</td>\n",
       "      <td>0</td>\n",
       "    </tr>\n",
       "  </tbody>\n",
       "</table>\n",
       "<p>918 rows × 12 columns</p>\n",
       "</div>"
      ],
      "text/plain": [
       "     Age Sex ChestPainType  RestingBP  Cholesterol  FastingBS RestingECG  \\\n",
       "0     40   M           ATA        140          289          0     Normal   \n",
       "1     49   F           NAP        160          180          0     Normal   \n",
       "2     37   M           ATA        130          283          0         ST   \n",
       "3     48   F           ASY        138          214          0     Normal   \n",
       "4     54   M           NAP        150          195          0     Normal   \n",
       "..   ...  ..           ...        ...          ...        ...        ...   \n",
       "913   45   M            TA        110          264          0     Normal   \n",
       "914   68   M           ASY        144          193          1     Normal   \n",
       "915   57   M           ASY        130          131          0     Normal   \n",
       "916   57   F           ATA        130          236          0        LVH   \n",
       "917   38   M           NAP        138          175          0     Normal   \n",
       "\n",
       "     MaxHR ExerciseAngina  Oldpeak ST_Slope  HeartDisease  \n",
       "0      172              N      0.0       Up             0  \n",
       "1      156              N      1.0     Flat             1  \n",
       "2       98              N      0.0       Up             0  \n",
       "3      108              Y      1.5     Flat             1  \n",
       "4      122              N      0.0       Up             0  \n",
       "..     ...            ...      ...      ...           ...  \n",
       "913    132              N      1.2     Flat             1  \n",
       "914    141              N      3.4     Flat             1  \n",
       "915    115              Y      1.2     Flat             1  \n",
       "916    174              N      0.0     Flat             1  \n",
       "917    173              N      0.0       Up             0  \n",
       "\n",
       "[918 rows x 12 columns]"
      ]
     },
     "execution_count": 2,
     "metadata": {},
     "output_type": "execute_result"
    }
   ],
   "source": [
    "df = pd.read_csv(r'C:\\Users/Heart Failure Dataset.csv')\n",
    "df"
   ]
  },
  {
   "cell_type": "markdown",
   "id": "9bebcfc6",
   "metadata": {},
   "source": [
    "# Data Preparation"
   ]
  },
  {
   "cell_type": "markdown",
   "id": "8fa5e3d0",
   "metadata": {},
   "source": [
    "**1- Check duplicates and missing values**"
   ]
  },
  {
   "cell_type": "code",
   "execution_count": 3,
   "id": "0170cc49",
   "metadata": {
    "scrolled": true
   },
   "outputs": [
    {
     "name": "stdout",
     "output_type": "stream",
     "text": [
      "Number of duplicates: 0\n",
      "Number of NaN/Null values: 0\n"
     ]
    }
   ],
   "source": [
    "print('Number of duplicates: {}'.format(sum(df.duplicated())))\n",
    "print('Number of NaN/Null values: {}'.format(df.isnull().values.sum()))"
   ]
  },
  {
   "cell_type": "markdown",
   "id": "8c200e42",
   "metadata": {},
   "source": [
    "**2- Check data balance**"
   ]
  },
  {
   "cell_type": "code",
   "execution_count": 36,
   "id": "24e54365",
   "metadata": {},
   "outputs": [
    {
     "data": {
      "image/png": "[encoded data removed]",
      "text/plain": [
       "<Figure size 720x432 with 1 Axes>"
      ]
     },
     "metadata": {},
     "output_type": "display_data"
    }
   ],
   "source": [
    "import seaborn as sns\n",
    "\n",
    "ax = sns.countplot(x=\"HeartDisease\", data=df, palette= \"bright\")\n",
    "\n",
    "Classes = ['No Heart Failure, Heart Failure']\n",
    "# customize figsize,font, and color\n",
    "sns.set(rc={'figure.figsize':(10,6)},style=\"whitegrid\", font_scale=2)  \n",
    "\n",
    "for i in ax.containers:\n",
    "    ax.bar_label(i,)"
   ]
  },
  {
   "cell_type": "markdown",
   "id": "be17cf4c",
   "metadata": {},
   "source": [
    "**3- Find out the categorical columns in data**"
   ]
  },
  {
   "cell_type": "code",
   "execution_count": 6,
   "id": "8a551930",
   "metadata": {},
   "outputs": [
    {
     "data": {
      "text/plain": [
       "['Sex', 'ChestPainType', 'RestingECG', 'ExerciseAngina', 'ST_Slope']"
      ]
     },
     "execution_count": 6,
     "metadata": {},
     "output_type": "execute_result"
    }
   ],
   "source": [
    "df.select_dtypes(include=['object']).columns.tolist()"
   ]
  },
  {
   "cell_type": "markdown",
   "id": "3d694be2",
   "metadata": {},
   "source": [
    "**4- Find out the numeric columns in data**"
   ]
  },
  {
   "cell_type": "code",
   "execution_count": 7,
   "id": "c0fb5a21",
   "metadata": {},
   "outputs": [
    {
     "data": {
      "text/plain": [
       "['Age',\n",
       " 'RestingBP',\n",
       " 'Cholesterol',\n",
       " 'FastingBS',\n",
       " 'MaxHR',\n",
       " 'Oldpeak',\n",
       " 'HeartDisease']"
      ]
     },
     "execution_count": 7,
     "metadata": {},
     "output_type": "execute_result"
    }
   ],
   "source": [
    "df.select_dtypes(exclude=['object']).columns.tolist()"
   ]
  },
  {
   "cell_type": "markdown",
   "id": "e1370013",
   "metadata": {},
   "source": [
    "**5- Create Features (X), and Labels (y)** "
   ]
  },
  {
   "cell_type": "code",
   "execution_count": 8,
   "id": "d924f1ab",
   "metadata": {},
   "outputs": [],
   "source": [
    "X = df.drop('HeartDisease',axis=1)\n",
    "y = df['HeartDisease']"
   ]
  },
  {
   "cell_type": "markdown",
   "id": "74d8f767",
   "metadata": {},
   "source": [
    "**6- Encoding the categorical columns values**"
   ]
  },
  {
   "cell_type": "code",
   "execution_count": 9,
   "id": "b53db3ce",
   "metadata": {},
   "outputs": [],
   "source": [
    "# LabelEncoder\n",
    "le = LabelEncoder()\n",
    "\n",
    "# apply \"le.fit_transform\"\n",
    "X = X.apply(le.fit_transform)"
   ]
  },
  {
   "cell_type": "markdown",
   "id": "0a91e565",
   "metadata": {},
   "source": [
    "**7- How features look like after encoding?**"
   ]
  },
  {
   "cell_type": "code",
   "execution_count": 10,
   "id": "c9f9243b",
   "metadata": {},
   "outputs": [
    {
     "data": {
      "text/html": [
       "<div>\n",
       "<style scoped>\n",
       "    .dataframe tbody tr th:only-of-type {\n",
       "        vertical-align: middle;\n",
       "    }\n",
       "\n",
       "    .dataframe tbody tr th {\n",
       "        vertical-align: top;\n",
       "    }\n",
       "\n",
       "    .dataframe thead th {\n",
       "        text-align: right;\n",
       "    }\n",
       "</style>\n",
       "<table border=\"1\" class=\"dataframe\">\n",
       "  <thead>\n",
       "    <tr style=\"text-align: right;\">\n",
       "      <th></th>\n",
       "      <th>Age</th>\n",
       "      <th>Sex</th>\n",
       "      <th>ChestPainType</th>\n",
       "      <th>RestingBP</th>\n",
       "      <th>Cholesterol</th>\n",
       "      <th>FastingBS</th>\n",
       "      <th>RestingECG</th>\n",
       "      <th>MaxHR</th>\n",
       "      <th>ExerciseAngina</th>\n",
       "      <th>Oldpeak</th>\n",
       "      <th>ST_Slope</th>\n",
       "    </tr>\n",
       "  </thead>\n",
       "  <tbody>\n",
       "    <tr>\n",
       "      <th>0</th>\n",
       "      <td>12</td>\n",
       "      <td>1</td>\n",
       "      <td>1</td>\n",
       "      <td>41</td>\n",
       "      <td>147</td>\n",
       "      <td>0</td>\n",
       "      <td>1</td>\n",
       "      <td>98</td>\n",
       "      <td>0</td>\n",
       "      <td>10</td>\n",
       "      <td>2</td>\n",
       "    </tr>\n",
       "    <tr>\n",
       "      <th>1</th>\n",
       "      <td>21</td>\n",
       "      <td>0</td>\n",
       "      <td>2</td>\n",
       "      <td>55</td>\n",
       "      <td>40</td>\n",
       "      <td>0</td>\n",
       "      <td>1</td>\n",
       "      <td>82</td>\n",
       "      <td>0</td>\n",
       "      <td>20</td>\n",
       "      <td>1</td>\n",
       "    </tr>\n",
       "    <tr>\n",
       "      <th>2</th>\n",
       "      <td>9</td>\n",
       "      <td>1</td>\n",
       "      <td>1</td>\n",
       "      <td>31</td>\n",
       "      <td>141</td>\n",
       "      <td>0</td>\n",
       "      <td>2</td>\n",
       "      <td>25</td>\n",
       "      <td>0</td>\n",
       "      <td>10</td>\n",
       "      <td>2</td>\n",
       "    </tr>\n",
       "    <tr>\n",
       "      <th>3</th>\n",
       "      <td>20</td>\n",
       "      <td>0</td>\n",
       "      <td>0</td>\n",
       "      <td>39</td>\n",
       "      <td>72</td>\n",
       "      <td>0</td>\n",
       "      <td>1</td>\n",
       "      <td>34</td>\n",
       "      <td>1</td>\n",
       "      <td>25</td>\n",
       "      <td>1</td>\n",
       "    </tr>\n",
       "    <tr>\n",
       "      <th>4</th>\n",
       "      <td>26</td>\n",
       "      <td>1</td>\n",
       "      <td>2</td>\n",
       "      <td>49</td>\n",
       "      <td>53</td>\n",
       "      <td>0</td>\n",
       "      <td>1</td>\n",
       "      <td>48</td>\n",
       "      <td>0</td>\n",
       "      <td>10</td>\n",
       "      <td>2</td>\n",
       "    </tr>\n",
       "    <tr>\n",
       "      <th>...</th>\n",
       "      <td>...</td>\n",
       "      <td>...</td>\n",
       "      <td>...</td>\n",
       "      <td>...</td>\n",
       "      <td>...</td>\n",
       "      <td>...</td>\n",
       "      <td>...</td>\n",
       "      <td>...</td>\n",
       "      <td>...</td>\n",
       "      <td>...</td>\n",
       "      <td>...</td>\n",
       "    </tr>\n",
       "    <tr>\n",
       "      <th>913</th>\n",
       "      <td>17</td>\n",
       "      <td>1</td>\n",
       "      <td>3</td>\n",
       "      <td>14</td>\n",
       "      <td>122</td>\n",
       "      <td>0</td>\n",
       "      <td>1</td>\n",
       "      <td>58</td>\n",
       "      <td>0</td>\n",
       "      <td>22</td>\n",
       "      <td>1</td>\n",
       "    </tr>\n",
       "    <tr>\n",
       "      <th>914</th>\n",
       "      <td>40</td>\n",
       "      <td>1</td>\n",
       "      <td>0</td>\n",
       "      <td>45</td>\n",
       "      <td>51</td>\n",
       "      <td>1</td>\n",
       "      <td>1</td>\n",
       "      <td>67</td>\n",
       "      <td>0</td>\n",
       "      <td>42</td>\n",
       "      <td>1</td>\n",
       "    </tr>\n",
       "    <tr>\n",
       "      <th>915</th>\n",
       "      <td>29</td>\n",
       "      <td>1</td>\n",
       "      <td>0</td>\n",
       "      <td>31</td>\n",
       "      <td>9</td>\n",
       "      <td>0</td>\n",
       "      <td>1</td>\n",
       "      <td>41</td>\n",
       "      <td>1</td>\n",
       "      <td>22</td>\n",
       "      <td>1</td>\n",
       "    </tr>\n",
       "    <tr>\n",
       "      <th>916</th>\n",
       "      <td>29</td>\n",
       "      <td>0</td>\n",
       "      <td>1</td>\n",
       "      <td>31</td>\n",
       "      <td>94</td>\n",
       "      <td>0</td>\n",
       "      <td>0</td>\n",
       "      <td>100</td>\n",
       "      <td>0</td>\n",
       "      <td>10</td>\n",
       "      <td>1</td>\n",
       "    </tr>\n",
       "    <tr>\n",
       "      <th>917</th>\n",
       "      <td>10</td>\n",
       "      <td>1</td>\n",
       "      <td>2</td>\n",
       "      <td>39</td>\n",
       "      <td>35</td>\n",
       "      <td>0</td>\n",
       "      <td>1</td>\n",
       "      <td>99</td>\n",
       "      <td>0</td>\n",
       "      <td>10</td>\n",
       "      <td>2</td>\n",
       "    </tr>\n",
       "  </tbody>\n",
       "</table>\n",
       "<p>918 rows × 11 columns</p>\n",
       "</div>"
      ],
      "text/plain": [
       "     Age  Sex  ChestPainType  RestingBP  Cholesterol  FastingBS  RestingECG  \\\n",
       "0     12    1              1         41          147          0           1   \n",
       "1     21    0              2         55           40          0           1   \n",
       "2      9    1              1         31          141          0           2   \n",
       "3     20    0              0         39           72          0           1   \n",
       "4     26    1              2         49           53          0           1   \n",
       "..   ...  ...            ...        ...          ...        ...         ...   \n",
       "913   17    1              3         14          122          0           1   \n",
       "914   40    1              0         45           51          1           1   \n",
       "915   29    1              0         31            9          0           1   \n",
       "916   29    0              1         31           94          0           0   \n",
       "917   10    1              2         39           35          0           1   \n",
       "\n",
       "     MaxHR  ExerciseAngina  Oldpeak  ST_Slope  \n",
       "0       98               0       10         2  \n",
       "1       82               0       20         1  \n",
       "2       25               0       10         2  \n",
       "3       34               1       25         1  \n",
       "4       48               0       10         2  \n",
       "..     ...             ...      ...       ...  \n",
       "913     58               0       22         1  \n",
       "914     67               0       42         1  \n",
       "915     41               1       22         1  \n",
       "916    100               0       10         1  \n",
       "917     99               0       10         2  \n",
       "\n",
       "[918 rows x 11 columns]"
      ]
     },
     "execution_count": 10,
     "metadata": {},
     "output_type": "execute_result"
    }
   ],
   "source": [
    "X"
   ]
  },
  {
   "cell_type": "markdown",
   "id": "10c3e3d7",
   "metadata": {},
   "source": [
    "**8- Features Scaling**"
   ]
  },
  {
   "cell_type": "code",
   "execution_count": 11,
   "id": "174c30b6",
   "metadata": {},
   "outputs": [],
   "source": [
    "scaler = StandardScaler()\n",
    "scaler.fit(X) \n",
    "X = scaler.transform(X) "
   ]
  },
  {
   "cell_type": "markdown",
   "id": "546843b5",
   "metadata": {},
   "source": [
    "**9- Data Resampling**"
   ]
  },
  {
   "cell_type": "code",
   "execution_count": 12,
   "id": "fc03891a",
   "metadata": {},
   "outputs": [
    {
     "name": "stdout",
     "output_type": "stream",
     "text": [
      "Original dataset shape : Counter({1: 508, 0: 410})\n",
      "Resampled dataset shape Counter({0: 508, 1: 508})\n"
     ]
    }
   ],
   "source": [
    "from collections import Counter\n",
    "from imblearn.over_sampling import SMOTE\n",
    "\n",
    "print(f'Original dataset shape : {Counter(y)}')\n",
    "\n",
    "smote = SMOTE(random_state=42)\n",
    "X_over, y_over = smote.fit_resample(X, y)\n",
    "\n",
    "print(f'Resampled dataset shape {Counter(y_over)}')"
   ]
  },
  {
   "cell_type": "markdown",
   "id": "891f5a25",
   "metadata": {},
   "source": [
    "**10- Splitting Dataset to train set and test set**"
   ]
  },
  {
   "cell_type": "code",
   "execution_count": 13,
   "id": "df939ef1",
   "metadata": {},
   "outputs": [],
   "source": [
    "X_train, X_test, y_train, y_test = train_test_split(X_over, y_over, test_size=0.25, random_state=0)"
   ]
  },
  {
   "cell_type": "markdown",
   "id": "e6411358",
   "metadata": {},
   "source": [
    "# Comparative Analysis of Classifiers"
   ]
  },
  {
   "cell_type": "code",
   "execution_count": 15,
   "id": "3daeb9af",
   "metadata": {},
   "outputs": [
    {
     "data": {
      "text/html": [
       "<div>\n",
       "<style scoped>\n",
       "    .dataframe tbody tr th:only-of-type {\n",
       "        vertical-align: middle;\n",
       "    }\n",
       "\n",
       "    .dataframe tbody tr th {\n",
       "        vertical-align: top;\n",
       "    }\n",
       "\n",
       "    .dataframe thead th {\n",
       "        text-align: right;\n",
       "    }\n",
       "</style>\n",
       "<table border=\"1\" class=\"dataframe\">\n",
       "  <thead>\n",
       "    <tr style=\"text-align: right;\">\n",
       "      <th></th>\n",
       "      <th>Model</th>\n",
       "      <th>Test Accuracy</th>\n",
       "      <th>Training Time in seconds</th>\n",
       "    </tr>\n",
       "  </thead>\n",
       "  <tbody>\n",
       "    <tr>\n",
       "      <th>0</th>\n",
       "      <td>Logistic Regression</td>\n",
       "      <td>0.87</td>\n",
       "      <td>0.094</td>\n",
       "    </tr>\n",
       "    <tr>\n",
       "      <th>1</th>\n",
       "      <td>Support Vector machine</td>\n",
       "      <td>0.89</td>\n",
       "      <td>0.078</td>\n",
       "    </tr>\n",
       "    <tr>\n",
       "      <th>2</th>\n",
       "      <td>K-Nearest Neighbors</td>\n",
       "      <td>0.86</td>\n",
       "      <td>0.047</td>\n",
       "    </tr>\n",
       "    <tr>\n",
       "      <th>3</th>\n",
       "      <td>XGBoost</td>\n",
       "      <td>0.87</td>\n",
       "      <td>0.656</td>\n",
       "    </tr>\n",
       "    <tr>\n",
       "      <th>4</th>\n",
       "      <td>Decision Tree</td>\n",
       "      <td>0.78</td>\n",
       "      <td>0.109</td>\n",
       "    </tr>\n",
       "    <tr>\n",
       "      <th>5</th>\n",
       "      <td>Random Forest</td>\n",
       "      <td>0.91</td>\n",
       "      <td>0.891</td>\n",
       "    </tr>\n",
       "    <tr>\n",
       "      <th>6</th>\n",
       "      <td>Extra Trees</td>\n",
       "      <td>0.89</td>\n",
       "      <td>0.469</td>\n",
       "    </tr>\n",
       "  </tbody>\n",
       "</table>\n",
       "</div>"
      ],
      "text/plain": [
       "                    Model  Test Accuracy  Training Time in seconds\n",
       "0     Logistic Regression           0.87                     0.094\n",
       "1  Support Vector machine           0.89                     0.078\n",
       "2     K-Nearest Neighbors           0.86                     0.047\n",
       "3                 XGBoost           0.87                     0.656\n",
       "4           Decision Tree           0.78                     0.109\n",
       "5           Random Forest           0.91                     0.891\n",
       "6             Extra Trees           0.89                     0.469"
      ]
     },
     "execution_count": 15,
     "metadata": {},
     "output_type": "execute_result"
    }
   ],
   "source": [
    "#creating the objects\n",
    "lr =LogisticRegression()\n",
    "svc =SVC()\n",
    "knn =KNeighborsClassifier()\n",
    "xgb = XGBClassifier()\n",
    "dt =DecisionTreeClassifier()\n",
    "rf =RandomForestClassifier()\n",
    "ex = ExtraTreesClassifier()\n",
    "\n",
    "models_dict = {0: 'Logistic Regression',\n",
    "               1: 'Support Vector machine',\n",
    "               2: 'K-Nearest Neighbors', \n",
    "               3: 'XGBoost',\n",
    "               4:'Decision Tree',\n",
    "               5:'Random Forest',\n",
    "               6:'Extra Trees',\n",
    "              }\n",
    "\n",
    "models=[lr,svc,knn,xgb,dt,rf,ex]\n",
    "\n",
    "frames = []\n",
    "\n",
    "for i,model in enumerate(models):\n",
    "    start = process_time()\n",
    "    model.fit(X_train, y_train)\n",
    "    acc = model.score(X_test, y_test)\n",
    "    end = process_time()\n",
    "    t= end - start\n",
    "    acc = round(acc, 2)\n",
    "    t = round(t, 3)\n",
    "    A = pd.DataFrame([[models_dict[i],acc,t]])\n",
    "    frames.append(A)\n",
    "    \n",
    "Model_Table = pd.concat(frames,ignore_index = True) \n",
    "# put names for columns\n",
    "Model_Table.columns =['Model','Test Accuracy','Training Time in seconds'] \n",
    "\n",
    "Model_Table"
   ]
  },
  {
   "cell_type": "markdown",
   "id": "18e74737",
   "metadata": {},
   "source": [
    "**Insights:**\n",
    "\n",
    "    -Support vector machine,Random forest and Extraa trees classifiers are the best classifiers in the test accuracy.\n",
    "    \n",
    "    -Random Forest seems to be the best, but since their results are close, it is necessary to do more deep evaluation to find out the best of them."
   ]
  },
  {
   "cell_type": "markdown",
   "id": "b74d1297",
   "metadata": {},
   "source": [
    "# Evaluation the best three models"
   ]
  },
  {
   "cell_type": "markdown",
   "id": "1e557fcd",
   "metadata": {},
   "source": [
    "**1- Support Vector Machine**"
   ]
  },
  {
   "cell_type": "code",
   "execution_count": 37,
   "id": "26151655",
   "metadata": {},
   "outputs": [
    {
     "name": "stdout",
     "output_type": "stream",
     "text": [
      "Classification Report of SVC:\n",
      "                   precision    recall  f1-score   support\n",
      "\n",
      "   Heart Failure       0.92      0.86      0.89       126\n",
      "No Heart Failure       0.87      0.93      0.90       128\n",
      "\n",
      "        accuracy                           0.89       254\n",
      "       macro avg       0.90      0.89      0.89       254\n",
      "    weighted avg       0.90      0.89      0.89       254\n",
      "\n"
     ]
    }
   ],
   "source": [
    "y_pred_svc = svc.predict(X_test)\n",
    "\n",
    "labels=['Heart Failure', 'No Heart Failure']\n",
    "\n",
    "print(\"Classification Report of SVC:\\n\",classification_report(y_test, y_pred_svc,target_names=labels, digits=2))"
   ]
  },
  {
   "cell_type": "code",
   "execution_count": 40,
   "id": "7e35359f",
   "metadata": {},
   "outputs": [
    {
     "data": {
      "image/png": "[encoded data removed]",
      "text/plain": [
       "<Figure size 576x576 with 2 Axes>"
      ]
     },
     "metadata": {},
     "output_type": "display_data"
    }
   ],
   "source": [
    "confusion_mtx = confusion_matrix(y_test,y_pred_svc)\n",
    "f,ax = plt.subplots(figsize = (8,8))\n",
    "\n",
    "sns.heatmap(confusion_mtx,annot=True,linewidths = 0.01,cmap=\"Reds\",\n",
    "            linecolor = \"gray\",fmt = \".2f\",ax=ax,\n",
    "            xticklabels=labels, yticklabels=labels\n",
    "            )\n",
    "plt.xlabel(\"predicted label\")\n",
    "plt.ylabel(\"True Label\")\n",
    "plt.title(\"confusion matrix for Support Vector Machine\")\n",
    "plt.show()"
   ]
  },
  {
   "cell_type": "markdown",
   "id": "959e3b57",
   "metadata": {},
   "source": [
    "**2- Random Forest Classifier:**"
   ]
  },
  {
   "cell_type": "code",
   "execution_count": 38,
   "id": "c5607050",
   "metadata": {},
   "outputs": [
    {
     "name": "stdout",
     "output_type": "stream",
     "text": [
      "Classification Report for Random Forest:\n",
      "                   precision    recall  f1-score   support\n",
      "\n",
      "   Heart Failure       0.93      0.87      0.90       126\n",
      "No Heart Failure       0.88      0.94      0.91       128\n",
      "\n",
      "        accuracy                           0.91       254\n",
      "       macro avg       0.91      0.91      0.91       254\n",
      "    weighted avg       0.91      0.91      0.91       254\n",
      "\n"
     ]
    }
   ],
   "source": [
    "y_pred_rf = rf.predict(X_test)\n",
    "print(\"Classification Report for Random Forest:\\n\",classification_report(y_test, y_pred_rf,target_names=labels, digits=2))"
   ]
  },
  {
   "cell_type": "code",
   "execution_count": 41,
   "id": "992c8e1c",
   "metadata": {},
   "outputs": [
    {
     "data": {
      "image/png": "[encoded data removed]",
      "text/plain": [
       "<Figure size 576x576 with 2 Axes>"
      ]
     },
     "metadata": {},
     "output_type": "display_data"
    }
   ],
   "source": [
    "confusion_mtx = confusion_matrix(y_test,y_pred_rf)\n",
    "f,ax = plt.subplots(figsize = (8,8))\n",
    "labels=['Heart Failure', 'No Heart Failure']\n",
    "\n",
    "sns.heatmap(confusion_mtx,annot=True,linewidths = 0.01,cmap=\"Blues\",\n",
    "            linecolor = \"gray\",fmt = \".2f\",ax=ax,\n",
    "            xticklabels=labels, yticklabels=labels\n",
    "            )\n",
    "plt.xlabel(\"predicted label\")\n",
    "plt.ylabel(\"True Label\")\n",
    "plt.title(\"confusion matrix for Random Forest\")\n",
    "plt.show()"
   ]
  },
  {
   "cell_type": "markdown",
   "id": "38392d11",
   "metadata": {},
   "source": [
    "**3- Extra Trees Classifier:**"
   ]
  },
  {
   "cell_type": "code",
   "execution_count": 39,
   "id": "7460f294",
   "metadata": {},
   "outputs": [
    {
     "name": "stdout",
     "output_type": "stream",
     "text": [
      "Classification Report for Extra Tree:\n",
      "                   precision    recall  f1-score   support\n",
      "\n",
      "   Heart Failure       0.90      0.88      0.89       126\n",
      "No Heart Failure       0.89      0.91      0.90       128\n",
      "\n",
      "        accuracy                           0.89       254\n",
      "       macro avg       0.89      0.89      0.89       254\n",
      "    weighted avg       0.89      0.89      0.89       254\n",
      "\n"
     ]
    }
   ],
   "source": [
    "y_pred_ex = ex.predict(X_test)\n",
    "print(\"Classification Report for Extra Tree:\\n\",classification_report(y_test, y_pred_ex,target_names=labels, digits=2))"
   ]
  },
  {
   "cell_type": "code",
   "execution_count": 42,
   "id": "a784b747",
   "metadata": {},
   "outputs": [
    {
     "data": {
      "image/png": "[encoded data removed]",
      "text/plain": [
       "<Figure size 576x576 with 2 Axes>"
      ]
     },
     "metadata": {},
     "output_type": "display_data"
    }
   ],
   "source": [
    "confusion_mtx = confusion_matrix(y_test,y_pred_ex)\n",
    "f,ax = plt.subplots(figsize = (8,8))\n",
    "labels=['Heart Failure', 'No Heart Failure']\n",
    "\n",
    "sns.heatmap(confusion_mtx,annot=True,linewidths = 0.01,cmap=\"Greens\",\n",
    "            linecolor = \"gray\",fmt = \".2f\",ax=ax,\n",
    "            xticklabels=labels, yticklabels=labels\n",
    "            )\n",
    "plt.xlabel(\"predicted label\")\n",
    "plt.ylabel(\"True Label\")\n",
    "plt.title(\"confusion matrix for Extra Tree\")\n",
    "plt.show()"
   ]
  },
  {
   "cell_type": "markdown",
   "id": "d56bc286",
   "metadata": {},
   "source": [
    "**Insight:**\n",
    "    \n",
    "    - False negative for support vector machine is 18.\n",
    "    \n",
    "    - False negative for random forest is 16.\n",
    "    \n",
    "    - False negative for extra trees is 15.\n",
    "    \n",
    "    Consequently, Extra Trees Algorithm is the best because in Heart failure classification use case what matters more is to false negative to be as reduced as possible.\n",
    "    "
   ]
  },
  {
   "cell_type": "markdown",
   "id": "ef7867a7",
   "metadata": {},
   "source": [
    "**Define a function to encode the string (categorical) values in new test example:**"
   ]
  },
  {
   "cell_type": "code",
   "execution_count": 23,
   "id": "e2f2e763",
   "metadata": {},
   "outputs": [],
   "source": [
    "def encoder(x):\n",
    "    #match each string with num\n",
    "    return {\n",
    "        'M': 1,\n",
    "        'F': 0,\n",
    "        'ATA': 1, \n",
    "        'NAP': 2,\n",
    "        'ASY': 0,\n",
    "        'TA': 3,\n",
    "        'Normal': 1,\n",
    "        'ST': 2,\n",
    "        'LVH': 0,\n",
    "        'N': 0,\n",
    "        'Y': 1,\n",
    "        'Up': 2,\n",
    "        'Flat': 1,\n",
    "        'Down': 0,\n",
    "        \n",
    "         }.get(x, 0.0) "
   ]
  },
  {
   "cell_type": "markdown",
   "id": "56646218",
   "metadata": {},
   "source": [
    "**Build a function to predict result (classify) for new instances:**"
   ]
  },
  {
   "cell_type": "code",
   "execution_count": 24,
   "id": "8be9df62",
   "metadata": {},
   "outputs": [],
   "source": [
    "def Predict(new):\n",
    "    \n",
    "    #scaling the input list\n",
    "    scaled_input = scaler.transform(new)\n",
    "    \n",
    "    #calling the prediction model\n",
    "    pred = ex.predict(scaled_input)\n",
    "    \n",
    "    #take the result as an integer number from the resulted array\n",
    "    result = int(pred)\n",
    "    \n",
    "    #find the probability \n",
    "    prob = np.max(ex.predict_proba(scaled_input), axis=1) \n",
    "    \n",
    "    # convert to float with two decimal places\n",
    "    proba = \"{:.2f}\".format(float(prob)) \n",
    "    \n",
    "    #express result as sentence\n",
    "    if result == 0:\n",
    "        end_result = 'No Heart Failure'\n",
    "    else: end_result = 'Heart Failure'\n",
    "    \n",
    "    #print result\n",
    "    print('Predicted result is: ', end_result, 'with', proba , 'as a probability')"
   ]
  },
  {
   "cell_type": "markdown",
   "id": "e5b878da",
   "metadata": {},
   "source": [
    "# An Example on Predicting [Heart Failure]"
   ]
  },
  {
   "cell_type": "code",
   "execution_count": 25,
   "id": "d8b7d57c",
   "metadata": {},
   "outputs": [
    {
     "name": "stdout",
     "output_type": "stream",
     "text": [
      "Please enter Age :\n",
      "48\n",
      "Please enter Sex :\n",
      "F\n",
      "Please enter ChestPainType:\n",
      "ASY\n",
      "Please enter RestingBP:\n",
      "138\n",
      "Please enter Cholesterol:\n",
      "214\n",
      "Please enter FastingBS:\n",
      "0\n",
      "Please enter RestingECG:\n",
      "Normal\n",
      "Please enter MaxHR:\n",
      "108\n",
      "Please enter ExerciseAngina :\n",
      "Y\n",
      "Please enter Oldpeak :\n",
      "1.5\n",
      "Please enter ST_Slope:\n",
      "Flat\n",
      "Predicted result is:  Heart Failure with 0.74 as a probability\n"
     ]
    }
   ],
   "source": [
    "value1 = input(\"Please enter Age :\\n\")\n",
    "value2 = input(\"Please enter Sex :\\n\")\n",
    "value3 = input(\"Please enter ChestPainType:\\n\")\n",
    "value4 = input(\"Please enter RestingBP:\\n\")\n",
    "value5 = input(\"Please enter Cholesterol:\\n\")\n",
    "value6 = input(\"Please enter FastingBS:\\n\")\n",
    "value7 = input(\"Please enter RestingECG:\\n\")\n",
    "value8 = input(\"Please enter MaxHR:\\n\")\n",
    "value9 = input(\"Please enter ExerciseAngina :\\n\")\n",
    "value10 = input(\"Please enter Oldpeak :\\n\")\n",
    "value11 = input(\"Please enter ST_Slope:\\n\")\n",
    "\n",
    "# take the input values form user and put it in a list of list\n",
    "Lista1 = [[value1,encoder(value2),encoder(value3),value4,value5,\n",
    "          value6,encoder(value7),value8,encoder(value9),value10,\n",
    "          encoder(value11)]]\n",
    "\n",
    "#Calling the prediction function\n",
    "Predict (Lista1)\n",
    "\n",
    "#48\tF\tASY\t138\t214\t0\tNormal\t108\tY\t1.5\tFlat\t1"
   ]
  },
  {
   "cell_type": "markdown",
   "id": "749af86f",
   "metadata": {},
   "source": [
    "# An Example on Predicting [No Heart Failure]"
   ]
  },
  {
   "cell_type": "code",
   "execution_count": 26,
   "id": "be49f485",
   "metadata": {},
   "outputs": [
    {
     "name": "stdout",
     "output_type": "stream",
     "text": [
      "Please enter Age :\n",
      "54\n",
      "Please enter Sex :\n",
      "M\n",
      "Please enter ChestPainType:\n",
      "NAP\n",
      "Please enter RestingBP:\n",
      "150\n",
      "Please enter Cholesterol:\n",
      "195\n",
      "Please enter FastingBS:\n",
      "0\n",
      "Please enter RestingECG:\n",
      "Normal\n",
      "Please enter MaxHR:\n",
      "122\n",
      "Please enter ExerciseAngina :\n",
      "N\n",
      "Please enter Oldpeak :\n",
      "0\n",
      "Please enter ST_Slope:\n",
      "Up\n",
      "Predicted result is:  No Heart Failure with 0.74 as a probability\n"
     ]
    }
   ],
   "source": [
    "value1 = input(\"Please enter Age :\\n\")\n",
    "value2 = input(\"Please enter Sex :\\n\")\n",
    "value3 = input(\"Please enter ChestPainType:\\n\")\n",
    "value4 = input(\"Please enter RestingBP:\\n\")\n",
    "value5 = input(\"Please enter Cholesterol:\\n\")\n",
    "value6 = input(\"Please enter FastingBS:\\n\")\n",
    "value7 = input(\"Please enter RestingECG:\\n\")\n",
    "value8 = input(\"Please enter MaxHR:\\n\")\n",
    "value9 = input(\"Please enter ExerciseAngina :\\n\")\n",
    "value10 = input(\"Please enter Oldpeak :\\n\")\n",
    "value11 = input(\"Please enter ST_Slope:\\n\")\n",
    "\n",
    "# take the input values form user and put it in a list of list\n",
    "Lista2 = [[value1,encoder(value2),encoder(value3),value4,value5,\n",
    "          value6,encoder(value7),value8,encoder(value9),value10,\n",
    "          encoder(value11)]]\n",
    "\n",
    "#Calling the prediction function\n",
    "Predict (Lista2)\n",
    "\n",
    "#54\tM\tNAP\t150\t195\t0\tNormal\t122\tN\t0.0\tUp\t0"
   ]
  }
 ],
 "metadata": {
  "kernelspec": {
   "display_name": "Python 3 (ipykernel)",
   "language": "python",
   "name": "python3"
  },
  "language_info": {
   "codemirror_mode": {
    "name": "ipython",
    "version": 3
   },
   "file_extension": ".py",
   "mimetype": "text/x-python",
   "name": "python",
   "nbconvert_exporter": "python",
   "pygments_lexer": "ipython3",
   "version": "3.9.7"
  }
 },
 "nbformat": 4,
 "nbformat_minor": 5
}
